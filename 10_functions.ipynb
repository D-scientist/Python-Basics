{
 "cells": [
  {
   "cell_type": "code",
   "execution_count": 1,
   "metadata": {},
   "outputs": [
    {
     "name": "stdout",
     "output_type": "stream",
     "text": [
      "we are larning wity Aammar\n",
      "we are larning wity Aammar\n",
      "we are larning wity Aammar\n",
      "we are larning wity Aammar\n",
      "we are larning wity Aammar\n",
      "we are larning wity Aammar\n"
     ]
    }
   ],
   "source": [
    "print(\"we are larning wity Aammar\")\n",
    "print(\"we are larning wity Aammar\")\n",
    "print(\"we are larning wity Aammar\")\n",
    "print(\"we are larning wity Aammar\")\n",
    "print(\"we are larning wity Aammar\")\n",
    "print(\"we are larning wity Aammar\")"
   ]
  },
  {
   "cell_type": "code",
   "execution_count": 3,
   "metadata": {},
   "outputs": [
    {
     "name": "stdout",
     "output_type": "stream",
     "text": [
      "we are larning wity Aammar\n",
      "we are larning wity Aammar\n",
      "we are larning wity Aammar\n",
      "we are larning wity Aammar\n",
      "we are larning wity Aammar\n",
      "we are larning wity Aammar\n"
     ]
    }
   ],
   "source": [
    "# defining a function\n",
    "# 1\n",
    "def print_codanics():\n",
    "    print(\"we are larning wity Aammar\")\n",
    "    print(\"we are larning wity Aammar\")\n",
    "    print(\"we are larning wity Aammar\")\n",
    "    print(\"we are larning wity Aammar\")\n",
    "    print(\"we are larning wity Aammar\")\n",
    "    print(\"we are larning wity Aammar\")\n",
    "\n",
    "print_codanics()"
   ]
  },
  {
   "cell_type": "code",
   "execution_count": 5,
   "metadata": {},
   "outputs": [
    {
     "name": "stdout",
     "output_type": "stream",
     "text": [
      "we are larning wity Aammar in codanics youtube channel\n",
      "we are larning wity Aammar in codanics youtube channel\n",
      "we are larning wity Aammar in codanics youtube channel\n",
      "we are larning wity Aammar in codanics youtube channel\n",
      "we are larning wity Aammar in codanics youtube channel\n",
      "we are larning wity Aammar in codanics youtube channel\n"
     ]
    }
   ],
   "source": [
    "# 2\n",
    "def print_codanics():\n",
    "    text = \"we are larning wity Aammar in codanics youtube channel\"\n",
    "    print(text)\n",
    "    print(text)\n",
    "    print(text)\n",
    "    print(text)\n",
    "    print(text)\n",
    "    print(text)\n",
    "\n",
    "print_codanics()"
   ]
  },
  {
   "cell_type": "code",
   "execution_count": 6,
   "metadata": {},
   "outputs": [
    {
     "name": "stdout",
     "output_type": "stream",
     "text": [
      "we are larning wity Aammar in codanics youtube channel\n",
      "we are larning wity Aammar in codanics youtube channel\n",
      "we are larning wity Aammar in codanics youtube channel\n"
     ]
    }
   ],
   "source": [
    "# 3\n",
    "def print_codanics(text):\n",
    "    print(text)\n",
    "    print(text)\n",
    "    print(text)\n",
    "\n",
    "print_codanics(\"we are larning wity Aammar in codanics youtube channel\")"
   ]
  },
  {
   "cell_type": "code",
   "execution_count": 8,
   "metadata": {},
   "outputs": [
    {
     "name": "stdout",
     "output_type": "stream",
     "text": [
      "Hammad  can join school\n"
     ]
    }
   ],
   "source": [
    "# defining a function with if,elif and else\n",
    "def school_calculator(age, text):\n",
    "    if age == 5:\n",
    "        print(text,\" can join school\")\n",
    "    elif age > 5:\n",
    "        print(text,\" should join higher secondary school\")\n",
    "    else:\n",
    "        print(text,\" can not go school\")\n",
    "\n",
    "school_calculator(5,\"Hammad\")\n"
   ]
  },
  {
   "cell_type": "code",
   "execution_count": 10,
   "metadata": {},
   "outputs": [
    {
     "name": "stdout",
     "output_type": "stream",
     "text": [
      "25\n"
     ]
    }
   ],
   "source": [
    "#defining a function of future\n",
    "def future_age(age):\n",
    "    new_age = age+20\n",
    "    return new_age\n",
    "    print(new_age)\n",
    "\n",
    "future_predicted_age = future_age(5)\n",
    "print(future_predicted_age)\n"
   ]
  },
  {
   "cell_type": "code",
   "execution_count": null,
   "metadata": {},
   "outputs": [],
   "source": []
  }
 ],
 "metadata": {
  "interpreter": {
   "hash": "3ac8fcc66128d1689e7c137ba009ac7020f77a187968a5f8407cc3b3ea0f5f8a"
  },
  "kernelspec": {
   "display_name": "Python 3.9.5 64-bit",
   "language": "python",
   "name": "python3"
  },
  "language_info": {
   "codemirror_mode": {
    "name": "ipython",
    "version": 3
   },
   "file_extension": ".py",
   "mimetype": "text/x-python",
   "name": "python",
   "nbconvert_exporter": "python",
   "pygments_lexer": "ipython3",
   "version": "3.9.5"
  },
  "orig_nbformat": 4
 },
 "nbformat": 4,
 "nbformat_minor": 2
}
