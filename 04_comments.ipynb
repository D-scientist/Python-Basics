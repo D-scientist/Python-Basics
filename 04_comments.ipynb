{
 "cells": [
  {
   "cell_type": "code",
   "execution_count": 3,
   "metadata": {},
   "outputs": [
    {
     "name": "stdout",
     "output_type": "stream",
     "text": [
      "we are Learning with Aammar\n",
      "8\n"
     ]
    }
   ],
   "source": [
    "# print(\"How are you ?\")\n",
    "print(\"we are Learning with Aammar\") #print sting\n",
    "print(2+6) # print oprator functions wit numbers"
   ]
  },
  {
   "cell_type": "code",
   "execution_count": null,
   "metadata": {},
   "outputs": [],
   "source": [
    "#press c\\to comment out ctrl + /\n"
   ]
  }
 ],
 "metadata": {
  "interpreter": {
   "hash": "3ac8fcc66128d1689e7c137ba009ac7020f77a187968a5f8407cc3b3ea0f5f8a"
  },
  "kernelspec": {
   "display_name": "Python 3.9.5 64-bit",
   "language": "python",
   "name": "python3"
  },
  "language_info": {
   "codemirror_mode": {
    "name": "ipython",
    "version": 3
   },
   "file_extension": ".py",
   "mimetype": "text/x-python",
   "name": "python",
   "nbconvert_exporter": "python",
   "pygments_lexer": "ipython3",
   "version": "3.9.5"
  },
  "orig_nbformat": 4
 },
 "nbformat": 4,
 "nbformat_minor": 2
}
