{
 "cells": [
  {
   "cell_type": "code",
   "execution_count": 3,
   "metadata": {},
   "outputs": [
    {
     "name": "stdout",
     "output_type": "stream",
     "text": [
      "102.0  Type of x is:  <class 'float'>\n"
     ]
    }
   ],
   "source": [
    "x =10     #int\n",
    "y = 10.2  # flot\n",
    "z = \"Hello\"  #string\n",
    "x = x*y\n",
    "#implicit type conversion\n",
    "print(x, \" Type of x is: \", type(x))\n"
   ]
  },
  {
   "cell_type": "code",
   "execution_count": 6,
   "metadata": {},
   "outputs": [
    {
     "name": "stdout",
     "output_type": "stream",
     "text": [
      "18.5 <class 'float'>\n"
     ]
    }
   ],
   "source": [
    "#explicit type conversion\n",
    "age = input(\"What is your age? \")\n",
    "# age = int(age)\n",
    "print(age, type(float(age))) # int , float, str"
   ]
  },
  {
   "cell_type": "code",
   "execution_count": 7,
   "metadata": {},
   "outputs": [
    {
     "name": "stdout",
     "output_type": "stream",
     "text": [
      "Tanzeel <class 'str'>\n"
     ]
    }
   ],
   "source": [
    "name = input(\"What is your name? \")\n",
    "# age = int(age)\n",
    "print(name, type(str(name))) "
   ]
  },
  {
   "cell_type": "code",
   "execution_count": null,
   "metadata": {},
   "outputs": [],
   "source": [
    "#type_conversion"
   ]
  }
 ],
 "metadata": {
  "interpreter": {
   "hash": "3ac8fcc66128d1689e7c137ba009ac7020f77a187968a5f8407cc3b3ea0f5f8a"
  },
  "kernelspec": {
   "display_name": "Python 3.9.5 64-bit",
   "language": "python",
   "name": "python3"
  },
  "language_info": {
   "codemirror_mode": {
    "name": "ipython",
    "version": 3
   },
   "file_extension": ".py",
   "mimetype": "text/x-python",
   "name": "python",
   "nbconvert_exporter": "python",
   "pygments_lexer": "ipython3",
   "version": "3.9.5"
  },
  "orig_nbformat": 4
 },
 "nbformat": 4,
 "nbformat_minor": 2
}
