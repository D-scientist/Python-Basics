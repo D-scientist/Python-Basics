{
 "cells": [
  {
   "cell_type": "code",
   "execution_count": 1,
   "metadata": {},
   "outputs": [
    {
     "name": "stdout",
     "output_type": "stream",
     "text": [
      "5\n"
     ]
    }
   ],
   "source": [
    "# Variables Objects containing specific values\n",
    "x = 5 # numeric or integer variable\n",
    "print(x)"
   ]
  },
  {
   "cell_type": "code",
   "execution_count": 2,
   "metadata": {},
   "outputs": [
    {
     "name": "stdout",
     "output_type": "stream",
     "text": [
      "We are learning Python with Aammar\n"
     ]
    }
   ],
   "source": [
    "y = \"We are learning Python with Aammar\" # String variable\n",
    "print(y)"
   ]
  },
  {
   "cell_type": "code",
   "execution_count": 3,
   "metadata": {},
   "outputs": [
    {
     "name": "stdout",
     "output_type": "stream",
     "text": [
      "15\n"
     ]
    }
   ],
   "source": [
    "x = x + 10 # or x =15\n",
    "print(x)"
   ]
  },
  {
   "cell_type": "code",
   "execution_count": 6,
   "metadata": {},
   "outputs": [
    {
     "name": "stdout",
     "output_type": "stream",
     "text": [
      "<class 'int'>\n",
      "<class 'str'>\n"
     ]
    }
   ],
   "source": [
    "# types/class of variables\n",
    "type(x)\n",
    "print(type(x))\n",
    "\n",
    "print(type(y))\n",
    "# prnt type_class"
   ]
  },
  {
   "cell_type": "code",
   "execution_count": null,
   "metadata": {},
   "outputs": [],
   "source": [
    "# Rules to assign a ariable:\n",
    "# 1- The variable should contain, numbers or underscores\n",
    "# 2- Do not start wit number -> 2student\n",
    "# 3- Space are not allowed\n",
    "# 4- Do not use keywords like used in functions (break, mean,media ,test ect)\n",
    "# 5- Short  and descriptive \n",
    "# 6- Case senstivity (Lowyercase, Upercase latters, lowyercase latter should be used )\n",
    " "
   ]
  },
  {
   "cell_type": "code",
   "execution_count": 7,
   "metadata": {},
   "outputs": [
    {
     "name": "stdout",
     "output_type": "stream",
     "text": [
      "Mangos\n"
     ]
    }
   ],
   "source": [
    "fruit_basket = \"Mangos\"\n",
    "print(fruit_basket)"
   ]
  },
  {
   "cell_type": "code",
   "execution_count": 8,
   "metadata": {},
   "outputs": [
    {
     "name": "stdout",
     "output_type": "stream",
     "text": [
      "('Mangos', 'Oranges')\n"
     ]
    }
   ],
   "source": [
    "fruit_basket = \"Mangos\" , \"Oranges\"\n",
    "print(fruit_basket)"
   ]
  },
  {
   "cell_type": "code",
   "execution_count": 9,
   "metadata": {},
   "outputs": [
    {
     "name": "stdout",
     "output_type": "stream",
     "text": [
      "Mangos Oranges\n"
     ]
    }
   ],
   "source": [
    "fruit_basket = \"Mangos Oranges\"\n",
    "print(fruit_basket)"
   ]
  },
  {
   "cell_type": "code",
   "execution_count": 10,
   "metadata": {},
   "outputs": [
    {
     "name": "stdout",
     "output_type": "stream",
     "text": [
      "8\n"
     ]
    }
   ],
   "source": [
    "fruit_basket = 8\n",
    "print(fruit_basket)"
   ]
  },
  {
   "cell_type": "code",
   "execution_count": 11,
   "metadata": {},
   "outputs": [
    {
     "name": "stdout",
     "output_type": "stream",
     "text": [
      "<class 'int'>\n"
     ]
    }
   ],
   "source": [
    "fruit_basket = 8\n",
    "print(type(fruit_basket))"
   ]
  },
  {
   "cell_type": "code",
   "execution_count": 12,
   "metadata": {},
   "outputs": [
    {
     "name": "stdout",
     "output_type": "stream",
     "text": [
      "<class 'int'>\n",
      "15\n"
     ]
    }
   ],
   "source": [
    "fruit_basket = 8\n",
    "fruit_basket = 15\n",
    "print(type(fruit_basket))\n",
    "print(fruit_basket)"
   ]
  },
  {
   "cell_type": "code",
   "execution_count": 14,
   "metadata": {},
   "outputs": [
    {
     "name": "stdout",
     "output_type": "stream",
     "text": [
      "<class 'str'>\n",
      "Mangos\n"
     ]
    }
   ],
   "source": [
    "fruit_basket = 8\n",
    "fruit_basket = \"Mangos\"\n",
    "print(type(fruit_basket))\n",
    "print(fruit_basket)\n"
   ]
  },
  {
   "cell_type": "code",
   "execution_count": 15,
   "metadata": {},
   "outputs": [
    {
     "ename": "NameError",
     "evalue": "name 'fruit_basket' is not defined",
     "output_type": "error",
     "traceback": [
      "\u001b[1;31m---------------------------------------------------------------------------\u001b[0m",
      "\u001b[1;31mNameError\u001b[0m                                 Traceback (most recent call last)",
      "\u001b[1;32mc:\\Users\\SAMIU\\Documents\\SAMI ML\\PYTHON WITH AAMMAR\\05_variables.ipynb Cell 13'\u001b[0m in \u001b[0;36m<module>\u001b[1;34m\u001b[0m\n\u001b[0;32m      <a href='vscode-notebook-cell:/c%3A/Users/SAMIU/Documents/SAMI%20ML/PYTHON%20WITH%20AAMMAR/05_variables.ipynb#ch0000013?line=1'>2</a>\u001b[0m fruit_basket \u001b[39m=\u001b[39m \u001b[39m\"\u001b[39m\u001b[39mMangos\u001b[39m\u001b[39m\"\u001b[39m\n\u001b[0;32m      <a href='vscode-notebook-cell:/c%3A/Users/SAMIU/Documents/SAMI%20ML/PYTHON%20WITH%20AAMMAR/05_variables.ipynb#ch0000013?line=2'>3</a>\u001b[0m \u001b[39mdel\u001b[39;00m fruit_basket\n\u001b[1;32m----> <a href='vscode-notebook-cell:/c%3A/Users/SAMIU/Documents/SAMI%20ML/PYTHON%20WITH%20AAMMAR/05_variables.ipynb#ch0000013?line=3'>4</a>\u001b[0m \u001b[39mprint\u001b[39m(\u001b[39mtype\u001b[39m(fruit_basket))\n\u001b[0;32m      <a href='vscode-notebook-cell:/c%3A/Users/SAMIU/Documents/SAMI%20ML/PYTHON%20WITH%20AAMMAR/05_variables.ipynb#ch0000013?line=4'>5</a>\u001b[0m \u001b[39mprint\u001b[39m(fruit_basket)\n",
      "\u001b[1;31mNameError\u001b[0m: name 'fruit_basket' is not defined"
     ]
    }
   ],
   "source": [
    "fruit_basket = 8\n",
    "fruit_basket = \"Mangos\"\n",
    "del fruit_basket\n",
    "print(type(fruit_basket))\n",
    "print(fruit_basket)\n"
   ]
  },
  {
   "cell_type": "code",
   "execution_count": null,
   "metadata": {},
   "outputs": [],
   "source": []
  }
 ],
 "metadata": {
  "interpreter": {
   "hash": "3ac8fcc66128d1689e7c137ba009ac7020f77a187968a5f8407cc3b3ea0f5f8a"
  },
  "kernelspec": {
   "display_name": "Python 3.9.5 64-bit",
   "language": "python",
   "name": "python3"
  },
  "language_info": {
   "codemirror_mode": {
    "name": "ipython",
    "version": 3
   },
   "file_extension": ".py",
   "mimetype": "text/x-python",
   "name": "python",
   "nbconvert_exporter": "python",
   "pygments_lexer": "ipython3",
   "version": "3.9.5"
  },
  "orig_nbformat": 4
 },
 "nbformat": 4,
 "nbformat_minor": 2
}
