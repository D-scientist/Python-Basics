{
 "cells": [
  {
   "cell_type": "code",
   "execution_count": 7,
   "metadata": {},
   "outputs": [
    {
     "name": "stdout",
     "output_type": "stream",
     "text": [
      "Hammad should join higher secondary school\n"
     ]
    }
   ],
   "source": [
    "hammad_age = 15\n",
    "required_age_at_school = 5\n",
    "# hammad_age = input(\"How old is Hammad ?\")\n",
    "# hammad_age = int(hammad_age)\n",
    "# print(type(hammad_age))\n",
    "\n",
    "# Question: can hammad go to school?\n",
    "if hammad_age == required_age_at_school:\n",
    "    print(\"Hammad can join school\")\n",
    "elif hammad_age > required_age_at_school:\n",
    "    print(\"Hammad should join higher secondary school\")\n",
    "elif hammad_age == 2:\n",
    "    print(\"you should take care of Hammad, he is still a baby\")\n",
    "else:\n",
    "    print(\"Hammad can not go school\")"
   ]
  },
  {
   "cell_type": "code",
   "execution_count": null,
   "metadata": {},
   "outputs": [],
   "source": []
  }
 ],
 "metadata": {
  "interpreter": {
   "hash": "3ac8fcc66128d1689e7c137ba009ac7020f77a187968a5f8407cc3b3ea0f5f8a"
  },
  "kernelspec": {
   "display_name": "Python 3.9.5 64-bit",
   "language": "python",
   "name": "python3"
  },
  "language_info": {
   "codemirror_mode": {
    "name": "ipython",
    "version": 3
   },
   "file_extension": ".py",
   "mimetype": "text/x-python",
   "name": "python",
   "nbconvert_exporter": "python",
   "pygments_lexer": "ipython3",
   "version": "3.9.5"
  },
  "orig_nbformat": 4
 },
 "nbformat": 4,
 "nbformat_minor": 2
}
