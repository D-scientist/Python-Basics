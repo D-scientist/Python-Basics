{
 "cells": [
  {
   "cell_type": "code",
   "execution_count": 1,
   "metadata": {},
   "outputs": [
    {
     "name": "stdout",
     "output_type": "stream",
     "text": [
      "Hello World\n",
      "We are learning Python with Aammar\n",
      "Test for Single quotes\n",
      "Test for double quotes\n",
      " Test for triple quotes\n"
     ]
    }
   ],
   "source": [
    "print('Hello World')\n",
    "print('We are learning Python with Aammar')\n",
    "print('Test for Single quotes')\n",
    "print(\"Test for double quotes\")\n",
    "print(''' Test for triple quotes''')\n",
    "# ' '\n",
    "# \" \"\n",
    "# ''' ''' "
   ]
  },
  {
   "cell_type": "code",
   "execution_count": 5,
   "metadata": {},
   "outputs": [
    {
     "name": "stdout",
     "output_type": "stream",
     "text": [
      "  what's Up   ?\n",
      "  what's Up   Tanzeel & Sami ! \n"
     ]
    }
   ],
   "source": [
    "# print('what's Up')\n",
    "print(\"  what's Up   ?\")\n",
    "print(\"  what's Up   Tanzeel & Sami ! \")"
   ]
  },
  {
   "cell_type": "code",
   "execution_count": null,
   "metadata": {},
   "outputs": [],
   "source": []
  }
 ],
 "metadata": {
  "interpreter": {
   "hash": "3ac8fcc66128d1689e7c137ba009ac7020f77a187968a5f8407cc3b3ea0f5f8a"
  },
  "kernelspec": {
   "display_name": "Python 3.9.5 64-bit",
   "language": "python",
   "name": "python3"
  },
  "language_info": {
   "codemirror_mode": {
    "name": "ipython",
    "version": 3
   },
   "file_extension": ".py",
   "mimetype": "text/x-python",
   "name": "python",
   "nbconvert_exporter": "python",
   "pygments_lexer": "ipython3",
   "version": "3.9.5"
  },
  "orig_nbformat": 4
 },
 "nbformat": 4,
 "nbformat_minor": 2
}
